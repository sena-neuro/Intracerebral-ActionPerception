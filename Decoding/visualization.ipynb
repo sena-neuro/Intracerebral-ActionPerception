{
 "cells": [
  {
   "cell_type": "code",
<<<<<<< HEAD
   "execution_count": 40,
   "metadata": {
    "collapsed": true
   },
   "outputs": [],
   "source": [
    "from pathlib import Path\n",
    "\n",
=======
   "execution_count": 1,
   "metadata": {},
   "outputs": [],
   "source": [
    "from pathlib import Path\n",
>>>>>>> origin/gridSearch
    "import pandas as pd"
   ]
  },
  {
   "cell_type": "code",
<<<<<<< HEAD
   "execution_count": 41,
   "outputs": [],
   "source": [
    "file = Path().resolve().parent / 'Results' / 'classification_results_df_scale.pkl'\n",
    "df = pd.read_pickle(file)"
   ],
   "metadata": {
    "collapsed": false,
    "pycharm": {
     "name": "#%%\n"
    }
   }
  },
  {
   "cell_type": "code",
   "execution_count": 42,
   "outputs": [],
   "source": [
    "sig_df = df.loc[lambda df: df.p_value < .05, :]\n",
    "\n",
    "pivoted_df = sig_df.pivot_table(values='accuracy', index='lead', columns='classification_type', aggfunc='first')"
   ],
   "metadata": {
    "collapsed": false,
    "pycharm": {
     "name": "#%%\n"
    }
   }
  },
  {
   "cell_type": "code",
   "execution_count": 43,
   "outputs": [],
   "source": [
    "pivoted_df = pivoted_df.fillna(\"ns\")"
   ],
   "metadata": {
    "collapsed": false,
    "pycharm": {
     "name": "#%%\n"
    }
   }
  },
  {
   "cell_type": "code",
   "execution_count": 44,
   "outputs": [
    {
     "data": {
      "text/plain": "classification_type (BOD, OBJ) (BOD, PER) (OBJ, PER)\nlead                                                \nF'3                      0.528         ns         ns\nJ'3                         ns         ns   0.552415\nJ'5                         ns   0.536111         ns\nJ'6                         ns   0.541333         ns\nK'4                         ns         ns   0.544444\nK'5                         ns         ns    0.54529\nK'6                         ns         ns   0.608959\nK'7                         ns         ns   0.537222\nL'2                         ns         ns   0.536718\nP'1                   0.608333         ns   0.602899\nW'5                   0.551647         ns         ns\nY'1                         ns         ns   0.529469\nY'2                         ns         ns   0.554667\nY'3                         ns         ns   0.586462",
      "text/html": "<div>\n<style scoped>\n    .dataframe tbody tr th:only-of-type {\n        vertical-align: middle;\n    }\n\n    .dataframe tbody tr th {\n        vertical-align: top;\n    }\n\n    .dataframe thead th {\n        text-align: right;\n    }\n</style>\n<table border=\"1\" class=\"dataframe\">\n  <thead>\n    <tr style=\"text-align: right;\">\n      <th>classification_type</th>\n      <th>(BOD, OBJ)</th>\n      <th>(BOD, PER)</th>\n      <th>(OBJ, PER)</th>\n    </tr>\n    <tr>\n      <th>lead</th>\n      <th></th>\n      <th></th>\n      <th></th>\n    </tr>\n  </thead>\n  <tbody>\n    <tr>\n      <th>F'3</th>\n      <td>0.528</td>\n      <td>ns</td>\n      <td>ns</td>\n    </tr>\n    <tr>\n      <th>J'3</th>\n      <td>ns</td>\n      <td>ns</td>\n      <td>0.552415</td>\n    </tr>\n    <tr>\n      <th>J'5</th>\n      <td>ns</td>\n      <td>0.536111</td>\n      <td>ns</td>\n    </tr>\n    <tr>\n      <th>J'6</th>\n      <td>ns</td>\n      <td>0.541333</td>\n      <td>ns</td>\n    </tr>\n    <tr>\n      <th>K'4</th>\n      <td>ns</td>\n      <td>ns</td>\n      <td>0.544444</td>\n    </tr>\n    <tr>\n      <th>K'5</th>\n      <td>ns</td>\n      <td>ns</td>\n      <td>0.54529</td>\n    </tr>\n    <tr>\n      <th>K'6</th>\n      <td>ns</td>\n      <td>ns</td>\n      <td>0.608959</td>\n    </tr>\n    <tr>\n      <th>K'7</th>\n      <td>ns</td>\n      <td>ns</td>\n      <td>0.537222</td>\n    </tr>\n    <tr>\n      <th>L'2</th>\n      <td>ns</td>\n      <td>ns</td>\n      <td>0.536718</td>\n    </tr>\n    <tr>\n      <th>P'1</th>\n      <td>0.608333</td>\n      <td>ns</td>\n      <td>0.602899</td>\n    </tr>\n    <tr>\n      <th>W'5</th>\n      <td>0.551647</td>\n      <td>ns</td>\n      <td>ns</td>\n    </tr>\n    <tr>\n      <th>Y'1</th>\n      <td>ns</td>\n      <td>ns</td>\n      <td>0.529469</td>\n    </tr>\n    <tr>\n      <th>Y'2</th>\n      <td>ns</td>\n      <td>ns</td>\n      <td>0.554667</td>\n    </tr>\n    <tr>\n      <th>Y'3</th>\n      <td>ns</td>\n      <td>ns</td>\n      <td>0.586462</td>\n    </tr>\n  </tbody>\n</table>\n</div>"
     },
     "execution_count": 44,
     "metadata": {},
     "output_type": "execute_result"
    }
   ],
   "source": [
    "pivoted_df"
   ],
   "metadata": {
    "collapsed": false,
    "pycharm": {
     "name": "#%%\n"
    }
   }
=======
   "execution_count": 4,
   "metadata": {
    "collapsed": false,
    "jupyter": {
     "outputs_hidden": false
    },
    "pycharm": {
     "name": "#%%\n"
    }
   },
   "outputs": [],
   "source": [
    "file = Path().resolve().parent / 'Results' / 'classification_results_df_scale.pkl'\n"
   ]
  },
  {
   "cell_type": "code",
   "execution_count": null,
   "metadata": {},
   "outputs": [],
   "source": []
  },
  {
   "cell_type": "code",
   "execution_count": null,
   "metadata": {},
   "outputs": [],
   "source": []
  },
  {
   "cell_type": "code",
   "execution_count": 5,
   "metadata": {},
   "outputs": [
    {
     "ename": "EOFError",
     "evalue": "Ran out of input",
     "output_type": "error",
     "traceback": [
      "\u001b[0;31m---------------------------------------------------------------------------\u001b[0m",
      "\u001b[0;31mEOFError\u001b[0m                                  Traceback (most recent call last)",
      "\u001b[0;32m<ipython-input-5-afd6e9cbe6bc>\u001b[0m in \u001b[0;36m<module>\u001b[0;34m\u001b[0m\n\u001b[0;32m----> 1\u001b[0;31m \u001b[0mdf\u001b[0m \u001b[0;34m=\u001b[0m \u001b[0mpd\u001b[0m\u001b[0;34m.\u001b[0m\u001b[0mread_pickle\u001b[0m\u001b[0;34m(\u001b[0m\u001b[0mfile\u001b[0m\u001b[0;34m)\u001b[0m\u001b[0;34m\u001b[0m\u001b[0;34m\u001b[0m\u001b[0m\n\u001b[0m",
      "\u001b[0;32m~/.conda/envs/Intracerebral/lib/python3.7/site-packages/pandas/io/pickle.py\u001b[0m in \u001b[0;36mread_pickle\u001b[0;34m(filepath_or_buffer, compression, storage_options)\u001b[0m\n\u001b[1;32m    201\u001b[0m                     \u001b[0;31m# We want to silence any warnings about, e.g. moved modules.\u001b[0m\u001b[0;34m\u001b[0m\u001b[0;34m\u001b[0m\u001b[0;34m\u001b[0m\u001b[0m\n\u001b[1;32m    202\u001b[0m                     \u001b[0mwarnings\u001b[0m\u001b[0;34m.\u001b[0m\u001b[0msimplefilter\u001b[0m\u001b[0;34m(\u001b[0m\u001b[0;34m\"ignore\"\u001b[0m\u001b[0;34m,\u001b[0m \u001b[0mWarning\u001b[0m\u001b[0;34m)\u001b[0m\u001b[0;34m\u001b[0m\u001b[0;34m\u001b[0m\u001b[0m\n\u001b[0;32m--> 203\u001b[0;31m                     \u001b[0;32mreturn\u001b[0m \u001b[0mpickle\u001b[0m\u001b[0;34m.\u001b[0m\u001b[0mload\u001b[0m\u001b[0;34m(\u001b[0m\u001b[0mhandles\u001b[0m\u001b[0;34m.\u001b[0m\u001b[0mhandle\u001b[0m\u001b[0;34m)\u001b[0m  \u001b[0;31m# type: ignore[arg-type]\u001b[0m\u001b[0;34m\u001b[0m\u001b[0;34m\u001b[0m\u001b[0m\n\u001b[0m\u001b[1;32m    204\u001b[0m             \u001b[0;32mexcept\u001b[0m \u001b[0mexcs_to_catch\u001b[0m\u001b[0;34m:\u001b[0m\u001b[0;34m\u001b[0m\u001b[0;34m\u001b[0m\u001b[0m\n\u001b[1;32m    205\u001b[0m                 \u001b[0;31m# e.g.\u001b[0m\u001b[0;34m\u001b[0m\u001b[0;34m\u001b[0m\u001b[0;34m\u001b[0m\u001b[0m\n",
      "\u001b[0;31mEOFError\u001b[0m: Ran out of input"
     ]
    }
   ],
   "source": [
    "df = pd.read_pickle(file)"
   ]
  },
  {
   "cell_type": "code",
   "execution_count": null,
   "metadata": {
    "collapsed": false,
    "jupyter": {
     "outputs_hidden": false
    },
    "pycharm": {
     "name": "#%%\n"
    }
   },
   "outputs": [],
   "source": [
    "sig_df = df.loc[lambda df: df.p_value < .05, :]\n",
    "pivoted_df = sig_df.pivot_table(values='accuracy', index='lead', columns='classification_type', aggfunc='first')"
   ]
  },
  {
   "cell_type": "code",
   "execution_count": null,
   "metadata": {
    "collapsed": false,
    "jupyter": {
     "outputs_hidden": false
    },
    "pycharm": {
     "name": "#%%\n"
    }
   },
   "outputs": [],
   "source": [
    "pivoted_df = pivoted_df.fillna(\"ns\")"
   ]
  },
  {
   "cell_type": "code",
   "execution_count": null,
   "metadata": {
    "collapsed": false,
    "jupyter": {
     "outputs_hidden": false
    },
    "pycharm": {
     "name": "#%%\n"
    }
   },
   "outputs": [],
   "source": [
    "pivoted_df"
   ]
  },
  {
   "cell_type": "code",
   "execution_count": null,
   "metadata": {},
   "outputs": [],
   "source": []
>>>>>>> origin/gridSearch
  }
 ],
 "metadata": {
  "kernelspec": {
   "display_name": "Python 3",
   "language": "python",
   "name": "python3"
  },
  "language_info": {
   "codemirror_mode": {
    "name": "ipython",
<<<<<<< HEAD
    "version": 2
=======
    "version": 3
>>>>>>> origin/gridSearch
   },
   "file_extension": ".py",
   "mimetype": "text/x-python",
   "name": "python",
   "nbconvert_exporter": "python",
<<<<<<< HEAD
   "pygments_lexer": "ipython2",
   "version": "2.7.6"
  }
 },
 "nbformat": 4,
 "nbformat_minor": 0
}
=======
   "pygments_lexer": "ipython3",
   "version": "3.7.10"
  }
 },
 "nbformat": 4,
 "nbformat_minor": 4
}
>>>>>>> origin/gridSearch
