{
 "cells": [
  {
   "cell_type": "code",
   "execution_count": 40,
   "metadata": {
    "collapsed": true
   },
   "outputs": [],
   "source": [
    "from pathlib import Path\n",
    "\n",
    "import pandas as pd"
   ]
  },
  {
   "cell_type": "code",
   "execution_count": 41,
   "outputs": [],
   "source": [
    "file = Path().resolve().parent / 'Results' / 'classification_results_df_scale.pkl'\n",
    "df = pd.read_pickle(file)"
   ],
   "metadata": {
    "collapsed": false,
    "pycharm": {
     "name": "#%%\n"
    }
   }
  },
  {
   "cell_type": "code",
   "execution_count": 42,
   "outputs": [],
   "source": [
    "sig_df = df.loc[lambda df: df.p_value < .05, :]\n",
    "\n",
    "pivoted_df = sig_df.pivot_table(values='accuracy', index='lead', columns='classification_type', aggfunc='first')"
   ],
   "metadata": {
    "collapsed": false,
    "pycharm": {
     "name": "#%%\n"
    }
   }
  },
  {
   "cell_type": "code",
   "execution_count": 43,
   "outputs": [],
   "source": [
    "pivoted_df = pivoted_df.fillna(\"ns\")"
   ],
   "metadata": {
    "collapsed": false,
    "pycharm": {
     "name": "#%%\n"
    }
   }
  },
  {
   "cell_type": "code",
   "execution_count": 44,
   "outputs": [
    {
     "data": {
      "text/plain": "classification_type (BOD, OBJ) (BOD, PER) (OBJ, PER)\nlead                                                \nF'3                      0.528         ns         ns\nJ'3                         ns         ns   0.552415\nJ'5                         ns   0.536111         ns\nJ'6                         ns   0.541333         ns\nK'4                         ns         ns   0.544444\nK'5                         ns         ns    0.54529\nK'6                         ns         ns   0.608959\nK'7                         ns         ns   0.537222\nL'2                         ns         ns   0.536718\nP'1                   0.608333         ns   0.602899\nW'5                   0.551647         ns         ns\nY'1                         ns         ns   0.529469\nY'2                         ns         ns   0.554667\nY'3                         ns         ns   0.586462",
      "text/html": "<div>\n<style scoped>\n    .dataframe tbody tr th:only-of-type {\n        vertical-align: middle;\n    }\n\n    .dataframe tbody tr th {\n        vertical-align: top;\n    }\n\n    .dataframe thead th {\n        text-align: right;\n    }\n</style>\n<table border=\"1\" class=\"dataframe\">\n  <thead>\n    <tr style=\"text-align: right;\">\n      <th>classification_type</th>\n      <th>(BOD, OBJ)</th>\n      <th>(BOD, PER)</th>\n      <th>(OBJ, PER)</th>\n    </tr>\n    <tr>\n      <th>lead</th>\n      <th></th>\n      <th></th>\n      <th></th>\n    </tr>\n  </thead>\n  <tbody>\n    <tr>\n      <th>F'3</th>\n      <td>0.528</td>\n      <td>ns</td>\n      <td>ns</td>\n    </tr>\n    <tr>\n      <th>J'3</th>\n      <td>ns</td>\n      <td>ns</td>\n      <td>0.552415</td>\n    </tr>\n    <tr>\n      <th>J'5</th>\n      <td>ns</td>\n      <td>0.536111</td>\n      <td>ns</td>\n    </tr>\n    <tr>\n      <th>J'6</th>\n      <td>ns</td>\n      <td>0.541333</td>\n      <td>ns</td>\n    </tr>\n    <tr>\n      <th>K'4</th>\n      <td>ns</td>\n      <td>ns</td>\n      <td>0.544444</td>\n    </tr>\n    <tr>\n      <th>K'5</th>\n      <td>ns</td>\n      <td>ns</td>\n      <td>0.54529</td>\n    </tr>\n    <tr>\n      <th>K'6</th>\n      <td>ns</td>\n      <td>ns</td>\n      <td>0.608959</td>\n    </tr>\n    <tr>\n      <th>K'7</th>\n      <td>ns</td>\n      <td>ns</td>\n      <td>0.537222</td>\n    </tr>\n    <tr>\n      <th>L'2</th>\n      <td>ns</td>\n      <td>ns</td>\n      <td>0.536718</td>\n    </tr>\n    <tr>\n      <th>P'1</th>\n      <td>0.608333</td>\n      <td>ns</td>\n      <td>0.602899</td>\n    </tr>\n    <tr>\n      <th>W'5</th>\n      <td>0.551647</td>\n      <td>ns</td>\n      <td>ns</td>\n    </tr>\n    <tr>\n      <th>Y'1</th>\n      <td>ns</td>\n      <td>ns</td>\n      <td>0.529469</td>\n    </tr>\n    <tr>\n      <th>Y'2</th>\n      <td>ns</td>\n      <td>ns</td>\n      <td>0.554667</td>\n    </tr>\n    <tr>\n      <th>Y'3</th>\n      <td>ns</td>\n      <td>ns</td>\n      <td>0.586462</td>\n    </tr>\n  </tbody>\n</table>\n</div>"
     },
     "execution_count": 44,
     "metadata": {},
     "output_type": "execute_result"
    }
   ],
   "source": [
    "pivoted_df"
   ],
   "metadata": {
    "collapsed": false,
    "pycharm": {
     "name": "#%%\n"
    }
   }
  }
 ],
 "metadata": {
  "kernelspec": {
   "display_name": "Python 3",
   "language": "python",
   "name": "python3"
  },
  "language_info": {
   "codemirror_mode": {
    "name": "ipython",
    "version": 2
   },
   "file_extension": ".py",
   "mimetype": "text/x-python",
   "name": "python",
   "nbconvert_exporter": "python",
   "pygments_lexer": "ipython2",
   "version": "2.7.6"
  }
 },
 "nbformat": 4,
 "nbformat_minor": 0
}